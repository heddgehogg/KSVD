{
  "nbformat": 4,
  "nbformat_minor": 0,
  "metadata": {
    "colab": {
      "provenance": [],
      "authorship_tag": "ABX9TyMAHGUM0QGCFN79S2WS5BEY",
      "include_colab_link": true
    },
    "kernelspec": {
      "name": "python3",
      "display_name": "Python 3"
    },
    "language_info": {
      "name": "python"
    }
  },
  "cells": [
    {
      "cell_type": "markdown",
      "metadata": {
        "id": "view-in-github",
        "colab_type": "text"
      },
      "source": [
        "<a href=\"https://colab.research.google.com/github/heddgehogg/KSVD/blob/main/%D0%9B%D0%B0%D0%B1%D0%BE%D1%80%D0%B0%D1%82%D0%BE%D1%80%D0%BD%D0%B0_%D1%80%D0%BE%D0%B1%D0%BE%D1%82%D0%B0_1_%D0%A9%D0%B5%D1%80%D0%B1%D0%B8%D0%BD%D0%B0.ipynb\" target=\"_parent\"><img src=\"https://colab.research.google.com/assets/colab-badge.svg\" alt=\"Open In Colab\"/></a>"
      ]
    },
    {
      "cell_type": "markdown",
      "source": [
        "# Лабораторна робота\n",
        "Щербина Юлія Варіант 1"
      ],
      "metadata": {
        "id": "aba8CGwQwwzO"
      }
    },
    {
      "cell_type": "markdown",
      "source": [
        "1. Створіть одновимірний масив (вектор) з першими 20-ма натуральними числами та виведіть його значення."
      ],
      "metadata": {
        "id": "QWzjalrby_RA"
      }
    },
    {
      "cell_type": "code",
      "source": [
        "!pip install numpy"
      ],
      "metadata": {
        "colab": {
          "base_uri": "https://localhost:8080/"
        },
        "id": "MNaGE5xu1nXu",
        "outputId": "21c9dea0-db78-4eab-9406-b8331b6386e6"
      },
      "execution_count": 1,
      "outputs": [
        {
          "output_type": "stream",
          "name": "stdout",
          "text": [
            "Requirement already satisfied: numpy in /usr/local/lib/python3.11/dist-packages (2.0.2)\n"
          ]
        }
      ]
    },
    {
      "cell_type": "code",
      "source": [
        "import numpy as np\n",
        "v = np.arange(1, 21)\n",
        "print(v)"
      ],
      "metadata": {
        "colab": {
          "base_uri": "https://localhost:8080/"
        },
        "id": "cumVUUt61qzV",
        "outputId": "090545c3-5dd3-47ed-9bdb-2299e5d29e90"
      },
      "execution_count": 2,
      "outputs": [
        {
          "output_type": "stream",
          "name": "stdout",
          "text": [
            "[ 1  2  3  4  5  6  7  8  9 10 11 12 13 14 15 16 17 18 19 20]\n"
          ]
        }
      ]
    },
    {
      "cell_type": "markdown",
      "source": [
        "2. Створіть двовимірний масив (матрицю) розміром 4x4, заповніть його одиницями та вивідіть його значення."
      ],
      "metadata": {
        "id": "fpdPFvWCzHVy"
      }
    },
    {
      "cell_type": "code",
      "source": [
        "m = np.ones((4, 4), dtype=int)\n",
        "print(m)"
      ],
      "metadata": {
        "colab": {
          "base_uri": "https://localhost:8080/"
        },
        "id": "pQvNc7pTJ1EI",
        "outputId": "522df055-0c45-46d3-b416-f344e0bc11cc"
      },
      "execution_count": 8,
      "outputs": [
        {
          "output_type": "stream",
          "name": "stdout",
          "text": [
            "[[1 1 1 1]\n",
            " [1 1 1 1]\n",
            " [1 1 1 1]\n",
            " [1 1 1 1]]\n"
          ]
        }
      ]
    },
    {
      "cell_type": "markdown",
      "source": [
        "3. Створіть масив розміром 5x5, заповніть його випадковими дійсними числами в діапазоні від -1 до 1 та виведіть його значення."
      ],
      "metadata": {
        "id": "CecEo1aYzUoS"
      }
    },
    {
      "cell_type": "code",
      "source": [
        "m = np.random.uniform(-1, 1, (5, 5))\n",
        "m"
      ],
      "metadata": {
        "colab": {
          "base_uri": "https://localhost:8080/"
        },
        "id": "UVZSVR9mKF0U",
        "outputId": "7f73fbee-b11b-44b5-e0aa-a4fa7da0132d"
      },
      "execution_count": 9,
      "outputs": [
        {
          "output_type": "execute_result",
          "data": {
            "text/plain": [
              "array([[-0.83425989,  0.01553424, -0.07153973, -0.50052417, -0.41928562],\n",
              "       [-0.15040247,  0.02732449, -0.45930613, -0.58952293,  0.81379279],\n",
              "       [-0.12026796, -0.0965639 , -0.98121587,  0.56680739,  0.16579341],\n",
              "       [-0.41555595,  0.85620267, -0.89646047, -0.08698204, -0.47526627],\n",
              "       [ 0.70799596, -0.39922738, -0.64773199, -0.97973832,  0.17586194]])"
            ]
          },
          "metadata": {},
          "execution_count": 9
        }
      ]
    },
    {
      "cell_type": "markdown",
      "source": [
        "4. Створіть масив розміром 3x3, заповніть його випадковими дійсними числами в діапазоні від 0 до 1 та виведіть його значення."
      ],
      "metadata": {
        "id": "ocs-lYtHzp8g"
      }
    },
    {
      "cell_type": "code",
      "source": [
        "m = np.random.uniform(0, 1, (3, 3))\n",
        "m"
      ],
      "metadata": {
        "colab": {
          "base_uri": "https://localhost:8080/"
        },
        "id": "PoTEvdeaKKuY",
        "outputId": "05794ae9-b1d3-41b2-95ed-1450614624aa"
      },
      "execution_count": 12,
      "outputs": [
        {
          "output_type": "execute_result",
          "data": {
            "text/plain": [
              "array([[0.34206583, 0.99528831, 0.94106088],\n",
              "       [0.80833745, 0.56423394, 0.06373859],\n",
              "       [0.92138665, 0.25310528, 0.13266711]])"
            ]
          },
          "metadata": {},
          "execution_count": 12
        }
      ]
    },
    {
      "cell_type": "markdown",
      "source": [
        "5. Створіть два одновимірних масиви розміром 6, заповніть їх випадкоми дійсними числами в діапазоні від 1 до 20 та виконайте на них поелементні операції додавання, віднімання та множення."
      ],
      "metadata": {
        "id": "F9Aae92gz3bM"
      }
    },
    {
      "cell_type": "code",
      "source": [
        "a = np.random.uniform(1, 20, 6)\n",
        "b = np.random.uniform(1, 20, 6)\n",
        "print(\"Вектор а =\", a)\n",
        "print(\"Вектор b =\", b)"
      ],
      "metadata": {
        "colab": {
          "base_uri": "https://localhost:8080/"
        },
        "id": "8TCDxoEHLXc1",
        "outputId": "ce143a10-4e01-4434-a805-519de587ab75"
      },
      "execution_count": 19,
      "outputs": [
        {
          "output_type": "stream",
          "name": "stdout",
          "text": [
            "Вектор а = [15.71926478 15.52685353 13.58367369 10.51972184 11.71122009 10.22383408]\n",
            "Вектор b = [ 5.20949693  8.64127542 19.33606975 10.12328658  2.86358679 19.43792384]\n"
          ]
        }
      ]
    },
    {
      "cell_type": "code",
      "source": [
        "print(\"Сума:\", a + b)\n",
        "print(\"Різниця:\", a - b)\n",
        "print(\"Добуток:\", a * b)"
      ],
      "metadata": {
        "colab": {
          "base_uri": "https://localhost:8080/"
        },
        "id": "juS-ED0IMmRG",
        "outputId": "ec8c702b-95ba-4fac-e782-76e77992cc4a"
      },
      "execution_count": 20,
      "outputs": [
        {
          "output_type": "stream",
          "name": "stdout",
          "text": [
            "Сума: [20.92876171 24.16812895 32.91974344 20.64300842 14.57480688 29.66175793]\n",
            "Різниця: [10.50976786  6.88557812 -5.75239607  0.39643526  8.8476333  -9.21408976]\n",
            "Добуток: [ 81.88946156 134.17181773 262.65486195 106.49415893  33.53609515\n",
            " 198.73010829]\n"
          ]
        }
      ]
    },
    {
      "cell_type": "markdown",
      "source": [
        "6. Створіть дві матриці розміром 3x2 та 2x4, заповніть їх випадковими цілими числами в діапазоні від 1 до 5 та перемножте їх між собою."
      ],
      "metadata": {
        "id": "YUhAql-y0lfF"
      }
    },
    {
      "cell_type": "code",
      "source": [
        "a = np.random.randint(1, 6, (3, 2))\n",
        "b = np.random.randint(1, 6, (2, 4))\n",
        "print(\"Перша матриця:\")\n",
        "print(a)\n",
        "print(\"Друга матриця:\")\n",
        "print(b)"
      ],
      "metadata": {
        "colab": {
          "base_uri": "https://localhost:8080/"
        },
        "id": "yK8aXbrfM6D2",
        "outputId": "5cccaae2-267d-43ae-fcd2-eb4fd5766190"
      },
      "execution_count": 15,
      "outputs": [
        {
          "output_type": "stream",
          "name": "stdout",
          "text": [
            "Перша матриця:\n",
            "[[2 4]\n",
            " [2 2]\n",
            " [4 5]]\n",
            "Друга матриця:\n",
            "[[3 3 5 1]\n",
            " [2 5 1 5]]\n"
          ]
        }
      ]
    },
    {
      "cell_type": "code",
      "source": [
        "print(\"Результат множення матриць:\")\n",
        "print(a.dot(b))"
      ],
      "metadata": {
        "colab": {
          "base_uri": "https://localhost:8080/"
        },
        "id": "I51dt6VCvKhe",
        "outputId": "abdb0974-3b9b-461e-d805-6d7792792a90"
      },
      "execution_count": 18,
      "outputs": [
        {
          "output_type": "stream",
          "name": "stdout",
          "text": [
            "Результат множення матриць:\n",
            "[[14 26 14 22]\n",
            " [10 16 12 12]\n",
            " [22 37 25 29]]\n"
          ]
        }
      ]
    },
    {
      "cell_type": "markdown",
      "source": [
        "7. Створіть матрицю розміром 3x3, заповніть її випадковими дійсними числами в діапазоні від 0 до 1 та транспонуйте її."
      ],
      "metadata": {
        "id": "5mdOkU1R06FC"
      }
    },
    {
      "cell_type": "code",
      "source": [
        "m = np.random.uniform(0, 1, (3, 3))\n",
        "print(m)"
      ],
      "metadata": {
        "colab": {
          "base_uri": "https://localhost:8080/"
        },
        "id": "NovQRM_Uv4L6",
        "outputId": "4a0d3052-48b5-448e-c1a8-41423497b751"
      },
      "execution_count": 19,
      "outputs": [
        {
          "output_type": "stream",
          "name": "stdout",
          "text": [
            "[[0.91545186 0.23767851 0.01995054]\n",
            " [0.48108436 0.5184264  0.5422309 ]\n",
            " [0.09977756 0.61552636 0.73369684]]\n"
          ]
        }
      ]
    },
    {
      "cell_type": "code",
      "source": [
        "b = m.T\n",
        "print(\"Транспонована матриця:\")\n",
        "print(b)"
      ],
      "metadata": {
        "colab": {
          "base_uri": "https://localhost:8080/"
        },
        "id": "3qsYDmzPv23X",
        "outputId": "93c5f9d0-a51e-4682-a992-8e41ece8d87c"
      },
      "execution_count": 20,
      "outputs": [
        {
          "output_type": "stream",
          "name": "stdout",
          "text": [
            "Транспонована матриця:\n",
            "[[0.91545186 0.48108436 0.09977756]\n",
            " [0.23767851 0.5184264  0.61552636]\n",
            " [0.01995054 0.5422309  0.73369684]]\n"
          ]
        }
      ]
    },
    {
      "cell_type": "markdown",
      "source": [
        "8. Створіть дві матриці розміром 3x3, заповніть їх випадковими цілими числами в діапазоні від 1 до 10 та знайдіть їхню різницю."
      ],
      "metadata": {
        "id": "3mFjXPlB1Jwe"
      }
    },
    {
      "cell_type": "code",
      "source": [
        "a = np.random.randint(1, 10, (3, 3))\n",
        "b = np.random.randint(1, 10, (3, 3))\n",
        "print(\"Перша матриця:\")\n",
        "print(a)\n",
        "print(\"Друга матриця:\")\n",
        "print(b)"
      ],
      "metadata": {
        "colab": {
          "base_uri": "https://localhost:8080/"
        },
        "id": "MA_WUfj2wPj9",
        "outputId": "31dedf0e-08fd-4d4e-9a53-c1fb399105ab"
      },
      "execution_count": 23,
      "outputs": [
        {
          "output_type": "stream",
          "name": "stdout",
          "text": [
            "Перша матриця:\n",
            "[[3 2 6]\n",
            " [6 6 5]\n",
            " [5 3 2]]\n",
            "Друга матриця:\n",
            "[[4 4 4]\n",
            " [1 4 7]\n",
            " [2 8 9]]\n"
          ]
        }
      ]
    },
    {
      "cell_type": "code",
      "source": [
        "print(\"Різниця матриць:\")\n",
        "print(a - b)"
      ],
      "metadata": {
        "colab": {
          "base_uri": "https://localhost:8080/"
        },
        "id": "fOqAkmqbwoSG",
        "outputId": "b002fd32-fc58-4d4b-fb61-1898218c63c4"
      },
      "execution_count": 24,
      "outputs": [
        {
          "output_type": "stream",
          "name": "stdout",
          "text": [
            "Різниця матриць:\n",
            "[[-1 -2  2]\n",
            " [ 5  2 -2]\n",
            " [ 3 -5 -7]]\n"
          ]
        }
      ]
    },
    {
      "cell_type": "markdown",
      "source": [
        "9. Створіть дві матриці розміром 3x3, заповніть їх випадковими цілими числами в діапазоні від -5 до 5 та знайдіть їх добуток."
      ],
      "metadata": {
        "id": "oyMO-omn1SYL"
      }
    },
    {
      "cell_type": "code",
      "source": [
        "a = np.random.randint(-5, 5, (3, 3))\n",
        "b = np.random.randint(-5, 5, (3, 3))\n",
        "print(\"Перша матриця:\")\n",
        "print(a)\n",
        "print(\"Друга матриця:\")\n",
        "print(b)"
      ],
      "metadata": {
        "colab": {
          "base_uri": "https://localhost:8080/"
        },
        "id": "Q_upyRdTxsTB",
        "outputId": "68d06714-373f-43d7-943d-93d3f1ee2f9a"
      },
      "execution_count": 25,
      "outputs": [
        {
          "output_type": "stream",
          "name": "stdout",
          "text": [
            "Перша матриця:\n",
            "[[-2 -3 -4]\n",
            " [-2  1  3]\n",
            " [-3  1 -5]]\n",
            "Друга матриця:\n",
            "[[-2 -5 -5]\n",
            " [ 4  0 -5]\n",
            " [ 0 -5  2]]\n"
          ]
        }
      ]
    },
    {
      "cell_type": "code",
      "source": [
        "print(\"Добуток матриць:\")\n",
        "print(a.dot(b))"
      ],
      "metadata": {
        "colab": {
          "base_uri": "https://localhost:8080/"
        },
        "id": "VKAhhvM1x6jJ",
        "outputId": "9226ad38-a557-4fcc-db33-67c332872961"
      },
      "execution_count": 27,
      "outputs": [
        {
          "output_type": "stream",
          "name": "stdout",
          "text": [
            "Добуток матриць:\n",
            "[[-8 30 17]\n",
            " [ 8 -5 11]\n",
            " [10 40  0]]\n"
          ]
        }
      ]
    },
    {
      "cell_type": "markdown",
      "source": [
        "10. Створіть матрицю розміром 3x3, заповніть її випадковими дійсними числами в діапазоні від -1 до 1 та знайдіть вектор-стовпчик, що містить суму елементів кожного рядка матриці."
      ],
      "metadata": {
        "id": "ilUT4-jx1VnL"
      }
    },
    {
      "cell_type": "code",
      "source": [
        "m = np.random.uniform(-1, 1, (3, 3))\n",
        "print(m)"
      ],
      "metadata": {
        "colab": {
          "base_uri": "https://localhost:8080/"
        },
        "id": "mSis39n-1crd",
        "outputId": "1c71c94b-9395-453e-a83e-68704738954b"
      },
      "execution_count": 29,
      "outputs": [
        {
          "output_type": "stream",
          "name": "stdout",
          "text": [
            "[[-0.33137047 -0.70898151  0.38141131]\n",
            " [ 0.0238972  -0.63050069  0.82328296]\n",
            " [-0.54694346 -0.8320442   0.594271  ]]\n"
          ]
        }
      ]
    },
    {
      "cell_type": "code",
      "source": [
        "cv = m.sum(axis=1).reshape(-1, 1)\n",
        "print(\"Вектор-стовпчик сум:\")\n",
        "print(cv)"
      ],
      "metadata": {
        "colab": {
          "base_uri": "https://localhost:8080/"
        },
        "id": "P8b0CnLN-eDC",
        "outputId": "90828fb7-128a-456d-bfae-84f2dc4692dd"
      },
      "execution_count": 30,
      "outputs": [
        {
          "output_type": "stream",
          "name": "stdout",
          "text": [
            "Вектор-стовпчик сум:\n",
            "[[-0.65894068]\n",
            " [ 0.21667947]\n",
            " [-0.78471665]]\n"
          ]
        }
      ]
    }
  ]
}